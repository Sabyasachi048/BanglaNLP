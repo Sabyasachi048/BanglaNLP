{
 "cells": [
  {
   "cell_type": "code",
   "execution_count": 2,
   "metadata": {},
   "outputs": [],
   "source": [
    "import nltk"
   ]
  },
  {
   "cell_type": "code",
   "execution_count": 12,
   "metadata": {},
   "outputs": [],
   "source": [
    "f = open(r'dataset\\positiveSentences.txt', 'r',encoding=\"utf8\")\n",
    "text = f.read()\n",
    "#spliting sentence with 'dari'\n",
    "sentence = nltk.sent_tokenize(text)\n",
    "tokens = nltk.word_tokenize(text)\n",
    "\n",
    "#process bangla stopwords\n",
    "ff = open(r'dataset\\stopwords.txt', 'r',encoding=\"utf8\")\n",
    "bn = ff.read()\n",
    "bn_stop = nltk.word_tokenize(bn) #stopwords\n",
    "STOP_WORDS = bn_stop"
   ]
  },
  {
   "cell_type": "markdown",
   "metadata": {},
   "source": [
    "# Filtering Words\n"
   ]
  },
  {
   "cell_type": "code",
   "execution_count": 4,
   "metadata": {},
   "outputs": [
    {
     "data": {
      "text/plain": [
       "['\\ufeff',\n",
       " 'মত',\n",
       " 'ভাল',\n",
       " 'আছি',\n",
       " 'জীবনের',\n",
       " 'অর্জন',\n",
       " 'করেছি',\n",
       " 'জীবনের',\n",
       " 'প্রতিটি',\n",
       " 'মুহূর্ত']"
      ]
     },
     "execution_count": 4,
     "metadata": {},
     "output_type": "execute_result"
    }
   ],
   "source": [
    "import pandas as pd\n",
    "df = text\n",
    "def sentence_to_wordlist(sentence, filters=\"!\\\"#$%&()*+,-./:;<=>?@[\\\\]^_`{|}~\\t\\n?,।!‍.'0123456789০১২৩৪৫৬৭৮৯‘\\u200c–“”…‘\"):\n",
    "    translate_dict = dict((c, ' ') for c in filters)\n",
    "    translate_map = str.maketrans(translate_dict)\n",
    "    wordlist = sentence.translate(translate_map).split()\n",
    "    return list(filter(lambda x: x not in STOP_WORDS, wordlist))\n",
    "filtered_words = sentence_to_wordlist(df)\n",
    "filtered_words[:10]"
   ]
  },
  {
   "cell_type": "code",
   "execution_count": 5,
   "metadata": {},
   "outputs": [],
   "source": [
    "filtered_words.remove('\\ufeff') "
   ]
  },
  {
   "cell_type": "markdown",
   "metadata": {},
   "source": [
    "### Visualize Most Frequent Words"
   ]
  },
  {
   "cell_type": "code",
   "execution_count": 7,
   "metadata": {},
   "outputs": [
    {
     "data": {
      "text/plain": [
       "[('ভালো', 31),\n",
       " ('ধন্যবাদ', 27),\n",
       " ('হয়েছে', 26),\n",
       " ('ইন্টারনেট', 23),\n",
       " ('সুবিধা', 20),\n",
       " ('যায়', 15),\n",
       " ('ধরনের', 15),\n",
       " ('সুযোগ', 14),\n",
       " ('সম্ভব', 14),\n",
       " ('ভাল', 13)]"
      ]
     },
     "execution_count": 7,
     "metadata": {},
     "output_type": "execute_result"
    }
   ],
   "source": [
    "from collections import Counter\n",
    "word_counter = Counter(filtered_words)\n",
    "most_common_words = word_counter.most_common()[:10]\n",
    "\n",
    "sorted_word_counts = sorted(list(word_counter.values()), reverse=True)\n",
    "most_common_words"
   ]
  },
  {
   "cell_type": "markdown",
   "metadata": {},
   "source": [
    "# Plotting Frequency "
   ]
  },
  {
   "cell_type": "code",
   "execution_count": 13,
   "metadata": {},
   "outputs": [
    {
     "data": {
      "text/plain": [
       "([<matplotlib.axis.XTick at 0x2990a541400>,\n",
       "  <matplotlib.axis.XTick at 0x2990a53dcc0>,\n",
       "  <matplotlib.axis.XTick at 0x2990a556fd0>,\n",
       "  <matplotlib.axis.XTick at 0x2990a55f7f0>,\n",
       "  <matplotlib.axis.XTick at 0x2990a55fcc0>,\n",
       "  <matplotlib.axis.XTick at 0x29907584208>,\n",
       "  <matplotlib.axis.XTick at 0x29907584710>,\n",
       "  <matplotlib.axis.XTick at 0x29907584c18>,\n",
       "  <matplotlib.axis.XTick at 0x29907554198>,\n",
       "  <matplotlib.axis.XTick at 0x29907554668>],\n",
       " <a list of 10 Text xticklabel objects>)"
      ]
     },
     "execution_count": 13,
     "metadata": {},
     "output_type": "execute_result"
    },
    {
     "data": {
      "image/png": "[encoded data removed]",
      "text/plain": [
       "<Figure size 432x288 with 1 Axes>"
      ]
     },
     "metadata": {},
     "output_type": "display_data"
    }
   ],
   "source": [
    "import matplotlib.pyplot as plt\n",
    "\n",
    "x = []\n",
    "y = []\n",
    "for i in most_common_words:\n",
    "    x.append(i[0])\n",
    "    y.append(i[1])\n",
    "csfont = {'fontname':'C:/Users/ASUS/Desktop/font/Siyamrupali.ttf','family':'Siyam Rupali'} #for rendering Bangla text\n",
    "\n",
    "plt.plot(x,y)\n",
    "plt.xticks(range(len(x)),x,**csfont)"
   ]
  },
  {
   "cell_type": "code",
   "execution_count": 9,
   "metadata": {},
   "outputs": [
    {
     "data": {
      "text/plain": [
       "1754"
      ]
     },
     "execution_count": 9,
     "metadata": {},
     "output_type": "execute_result"
    }
   ],
   "source": [
    "len(sorted_word_counts)"
   ]
  },
  {
   "cell_type": "code",
   "execution_count": 10,
   "metadata": {},
   "outputs": [
    {
     "data": {
      "text/plain": [
       "[<matplotlib.lines.Line2D at 0x29909f54f28>]"
      ]
     },
     "execution_count": 10,
     "metadata": {},
     "output_type": "execute_result"
    },
    {
     "data": {
      "image/png": "[encoded data removed]",
      "text/plain": [
       "<Figure size 432x288 with 1 Axes>"
      ]
     },
     "metadata": {},
     "output_type": "display_data"
    }
   ],
   "source": [
    "plt.loglog(sorted_word_counts)"
   ]
  },
  {
   "cell_type": "code",
   "execution_count": null,
   "metadata": {},
   "outputs": [],
   "source": []
  }
 ],
 "metadata": {
  "kernelspec": {
   "display_name": "Python 3",
   "language": "python",
   "name": "python3"
  },
  "language_info": {
   "codemirror_mode": {
    "name": "ipython",
    "version": 3
   },
   "file_extension": ".py",
   "mimetype": "text/x-python",
   "name": "python",
   "nbconvert_exporter": "python",
   "pygments_lexer": "ipython3",
   "version": "3.6.5"
  }
 },
 "nbformat": 4,
 "nbformat_minor": 2
}
